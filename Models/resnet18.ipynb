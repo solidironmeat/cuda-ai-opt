{
 "cells": [
  {
   "cell_type": "code",
   "execution_count": 11,
   "id": "43f1bb96",
   "metadata": {},
   "outputs": [
    {
     "name": "stdout",
     "output_type": "stream",
     "text": [
      "Model exported successfully.\n"
     ]
    }
   ],
   "source": [
    "import torch\n",
    "import torchvision.models as models\n",
    "\n",
    "# Load the model with pre-trained weights\n",
    "model = models.resnet18(weights=\"IMAGENET1K_V1\")\n",
    "model.eval()\n",
    "\n",
    "# Ensure model and input are on the same device\n",
    "device = torch.device(\"cpu\")\n",
    "model = model.to(device)\n",
    "\n",
    "# Create a dummy input\n",
    "dummy_input = torch.randn(1, 3, 224, 224).to(device)\n",
    "\n",
    "# Export the model to ONNX\n",
    "try:\n",
    "    torch.onnx.export(\n",
    "        model,\n",
    "        dummy_input,\n",
    "        \"resnet18.onnx\",\n",
    "        input_names=[\"input\"],\n",
    "        output_names=[\"output\"],\n",
    "        opset_version=11\n",
    "    )\n",
    "    print(\"Model exported successfully.\")\n",
    "except Exception as e:\n",
    "    print(f\"Export failed: {e}\")"
   ]
  },
  {
   "cell_type": "code",
   "execution_count": 12,
   "id": "02c76f3f",
   "metadata": {},
   "outputs": [
    {
     "name": "stdout",
     "output_type": "stream",
     "text": [
      "(1, 3, 224, 224) float32\n"
     ]
    }
   ],
   "source": [
    "import numpy as np\n",
    "np.save(\"input.npy\", dummy_input.numpy())\n",
    "\n",
    "arr = np.load(\"input.npy\")\n",
    "print(arr.shape, arr.dtype)"
   ]
  },
  {
   "cell_type": "code",
   "execution_count": 13,
   "id": "7009b81e",
   "metadata": {},
   "outputs": [],
   "source": [
    "with torch.no_grad():\n",
    "    output = model(dummy_input)\n",
    "np.save(\"output.npy\", output.numpy())"
   ]
  },
  {
   "cell_type": "code",
   "execution_count": 16,
   "id": "e7c56a50",
   "metadata": {},
   "outputs": [],
   "source": [
    "import onnx\n",
    "from onnx import helper\n",
    "\n",
    "# Load the original model\n",
    "model = onnx.load(\"resnet18.onnx\", load_external_data=True)\n",
    "onnx.checker.check_model(model)\n",
    "\n",
    "# Perform shape inference and save the inferred model\n",
    "inferred_model = onnx.shape_inference.infer_shapes(model)\n",
    "onnx.save(inferred_model, \"resnet18_inferred.onnx\")\n",
    "\n",
    "# Use the inferred model's graph\n",
    "graph = inferred_model.graph\n",
    "\n",
    "# Create a dictionary of tensor names to shapes from value_info, inputs, and outputs\n",
    "tensor_shapes = {}\n",
    "for value_info in graph.value_info:\n",
    "    if value_info.type.HasField(\"tensor_type\") and value_info.type.tensor_type.HasField(\"shape\"):\n",
    "        shape = value_info.type.tensor_type.shape\n",
    "        dims = [dim.dim_value if dim.dim_value else dim.dim_param or \"?\" for dim in shape.dim]\n",
    "        tensor_shapes[value_info.name] = dims\n",
    "for input_info in graph.input:\n",
    "    if input_info.type.HasField(\"tensor_type\") and input_info.type.tensor_type.HasField(\"shape\"):\n",
    "        shape = input_info.type.tensor_type.shape\n",
    "        dims = [dim.dim_value if dim.dim_value else dim.dim_param or \"?\" for dim in shape.dim]\n",
    "        tensor_shapes[input_info.name] = dims\n",
    "for output_info in graph.output:\n",
    "    if output_info.type.HasField(\"tensor_type\") and output_info.type.tensor_type.HasField(\"shape\"):\n",
    "        shape = output_info.type.tensor_type.shape\n",
    "        dims = [dim.dim_value if dim.dim_value else dim.dim_param or \"?\" for dim in shape.dim]\n",
    "        tensor_shapes[output_info.name] = dims\n",
    "for initializer in graph.initializer:\n",
    "    dims = [dim for dim in initializer.dims]\n",
    "    tensor_shapes[initializer.name] = dims"
   ]
  },
  {
   "cell_type": "code",
   "execution_count": 35,
   "id": "7a7c4191",
   "metadata": {},
   "outputs": [
    {
     "name": "stdout",
     "output_type": "stream",
     "text": [
      "Graphviz DOT file saved as resnet18.dot\n",
      "Graph rendered as resnet18.png\n"
     ]
    }
   ],
   "source": [
    "import onnx\n",
    "import onnx.shape_inference\n",
    "from onnx import helper\n",
    "import graphviz\n",
    "import matplotlib.pyplot as plt\n",
    "import matplotlib.image as mpimg\n",
    "\n",
    "def get_shape_str(shape):\n",
    "    \"\"\"Convert a TensorShapeProto or list-like object to a string.\"\"\"\n",
    "    # Handle list-like objects (including RepeatedScalarContainer)\n",
    "    if isinstance(shape, (list, tuple)) or hasattr(shape, '__iter__'):\n",
    "        dims = [str(dim) if isinstance(dim, (int, str)) else dim for dim in shape]\n",
    "        return \"[\" + \", \".join(dims) + \"]\"\n",
    "    # Handle TensorShapeProto\n",
    "    dims = []\n",
    "    for dim in shape.dim:\n",
    "        if dim.dim_value:\n",
    "            dims.append(str(dim.dim_value))\n",
    "        elif dim.dim_param:\n",
    "            dims.append(dim.dim_param)\n",
    "        else:\n",
    "            dims.append(\"?\")\n",
    "    return \"[\" + \", \".join(dims) + \"]\"\n",
    "\n",
    "def create_graphviz_dot(model, output_file=\"output\"):\n",
    "    \"\"\"Generate a Graphviz DOT file for the ONNX model's graph.\"\"\"\n",
    "    graph = model.graph\n",
    "\n",
    "    # Create a dictionary of tensor shapes\n",
    "    tensor_shapes = {}\n",
    "    for value_info in graph.value_info:\n",
    "        if value_info.type.HasField(\"tensor_type\") and value_info.type.tensor_type.HasField(\"shape\"):\n",
    "            tensor_shapes[value_info.name] = value_info.type.tensor_type.shape\n",
    "    for input_info in graph.input:\n",
    "        if input_info.type.HasField(\"tensor_type\") and input_info.type.tensor_type.HasField(\"shape\"):\n",
    "            tensor_shapes[input_info.name] = input_info.type.tensor_type.shape\n",
    "    for output_info in graph.output:\n",
    "        if output_info.type.HasField(\"tensor_type\") and output_info.type.tensor_type.HasField(\"shape\"):\n",
    "            tensor_shapes[output_info.name] = output_info.type.tensor_type.shape\n",
    "    for initializer in graph.initializer:\n",
    "        tensor_shapes[initializer.name] = list(initializer.dims)  # Convert to list\n",
    "\n",
    "    # Initialize Graphviz graph\n",
    "    dot = graphviz.Digraph(comment=\"ResNet18 ONNX Graph\", format=\"png\")\n",
    "    dot.attr(rankdir=\"TB\")  # Top-to-bottom layout\n",
    "    dot.attr(\"node\", shape=\"box\", style=\"filled\", fillcolor=\"lightblue\")\n",
    "    dot.attr(\"edge\", color=\"blue\")\n",
    "\n",
    "    # Add nodes for ONNX nodes\n",
    "    for i, node in enumerate(graph.node):\n",
    "        node_id = f\"node_{i}\"\n",
    "        node_label = f\"{node.op_type}\\\\nName: {node.name or 'N/A'}\"\n",
    "        # Add input shapes\n",
    "        node_label += \"\\\\nInputs:\"\n",
    "        for input_name in node.input:\n",
    "            shape_str = get_shape_str(tensor_shapes.get(input_name, [\"Unknown\"]))\n",
    "            node_label += f\"\\\\n{input_name}: {shape_str}\"\n",
    "        # Add output shapes\n",
    "        node_label += \"\\\\nOutputs:\"\n",
    "        for output_name in node.output:\n",
    "            shape_str = get_shape_str(tensor_shapes.get(output_name, [\"Unknown\"]))\n",
    "            node_label += f\"\\\\n{output_name}: {shape_str}\"\n",
    "        dot.node(node_id, node_label)\n",
    "\n",
    "    # Add edges based on input/output connections\n",
    "    tensor_to_nodes = {}\n",
    "    for i, node in enumerate(graph.node):\n",
    "        node_id = f\"node_{i}\"\n",
    "        for output_name in node.output:\n",
    "            tensor_to_nodes[output_name] = node_id\n",
    "    for i, node in enumerate(graph.node):\n",
    "        node_id = f\"node_{i}\"\n",
    "        for input_name in node.input:\n",
    "            if input_name in tensor_to_nodes:\n",
    "                source_node_id = tensor_to_nodes[input_name]\n",
    "                dot.edge(source_node_id, node_id, label=input_name)\n",
    "\n",
    "    # Save the DOT file\n",
    "    # dot.save(output_file + \".dot\")\n",
    "    print(f\"Graphviz DOT file saved as {output_file}.dot\")\n",
    "\n",
    "    # Render the graph to an image\n",
    "    try:\n",
    "        dot.render(output_file, view=False)\n",
    "        print(f\"Graph rendered as {output_file}.png\")\n",
    "    except graphviz.ExecutableNotFound:\n",
    "        print(\"Graphviz executable not found. Please install Graphviz and ensure 'dot' is in your PATH.\")\n",
    "\n",
    "def main():\n",
    "    # Load the inferred model\n",
    "    model = onnx.load(\"resnet18_inferred.onnx\")\n",
    "    onnx.checker.check_model(model)\n",
    "\n",
    "    # Generate the Graphviz graph\n",
    "    create_graphviz_dot(model, \"resnet18\")\n",
    "\n",
    "if __name__ == \"__main__\":\n",
    "    main()"
   ]
  },
  {
   "cell_type": "code",
   "execution_count": null,
   "id": "0ada1b96",
   "metadata": {},
   "outputs": [
    {
     "data": {
      "image/png": "[encoded data removed]",
      "text/plain": [
       "<Figure size 1000x500 with 1 Axes>"
      ]
     },
     "metadata": {},
     "output_type": "display_data"
    }
   ],
   "source": [
    "import matplotlib.pyplot as plt\n",
    "import numpy as np\n",
    "\n",
    "latency = np.loadtxt(\"latency.csv\")\n",
    "\n",
    "plt.figure(figsize=(10, 5))\n",
    "plt.plot(latency, label=\"Inference Time per Run (ms)\")\n",
    "plt.xlabel(\"Run #\")\n",
    "plt.ylabel(\"Latency (ms)\")\n",
    "plt.title(\"CUDA Inference Latency over 100 Runs for Conv Layer\")\n",
    "plt.grid(True)\n",
    "plt.legend()\n",
    "plt.tight_layout()\n",
    "plt.savefig(\"latency_plot.png\")\n",
    "plt.show()"
   ]
  }
 ],
 "metadata": {
  "kernelspec": {
   "display_name": "Python (venv)",
   "language": "python",
   "name": "venv"
  },
  "language_info": {
   "codemirror_mode": {
    "name": "ipython",
    "version": 3
   },
   "file_extension": ".py",
   "mimetype": "text/x-python",
   "name": "python",
   "nbconvert_exporter": "python",
   "pygments_lexer": "ipython3",
   "version": "3.12.3"
  }
 },
 "nbformat": 4,
 "nbformat_minor": 5
}
